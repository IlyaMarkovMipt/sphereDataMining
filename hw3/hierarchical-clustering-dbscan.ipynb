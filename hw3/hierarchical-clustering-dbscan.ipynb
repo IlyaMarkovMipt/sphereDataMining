{
 "cells": [
  {
   "cell_type": "markdown",
   "metadata": {},
   "source": [
    "# Домашнее задание 3. Алгоритмы кластеризации"
   ]
  },
  {
   "cell_type": "markdown",
   "metadata": {},
   "source": [
    "Основная задача этого задания -- реализация одного из алгоритмов кластеризации. Кроме того, мы научимся подбирать параметры алгоритма, визуализируем результат кластеризации и попытаемся проанализировать природу полученных кластеров."
   ]
  },
  {
   "cell_type": "code",
   "execution_count": 1,
   "metadata": {
    "collapsed": false
   },
   "outputs": [
    {
     "name": "stdout",
     "output_type": "stream",
     "text": [
      "Populating the interactive namespace from numpy and matplotlib\n"
     ]
    }
   ],
   "source": [
    "import pandas as pd\n",
    "import pylab as pl\n",
    "import numpy as np\n",
    "import scipy.spatial as ss\n",
    "import sklearn.cluster as sc\n",
    "import sklearn.manifold as sm\n",
    "import sklearn.datasets as ds\n",
    "import sklearn.metrics as smt\n",
    "import random as rnd\n",
    "\n",
    "import heapq as hp\n",
    "# Plotting config\n",
    "%pylab inline"
   ]
  },
  {
   "cell_type": "markdown",
   "metadata": {},
   "source": [
    "Cчитываем данные, полученные в результате выполнения предыдущего домашнего задания, в `data frame` библиотеки `pandas`. Конвертируем данные в массив `numpy`."
   ]
  },
  {
   "cell_type": "code",
   "execution_count": 3,
   "metadata": {
    "collapsed": false
   },
   "outputs": [],
   "source": [
    "data_df = pd.read_csv(\"hw2_out.csv\", sep=\"\\t\", header=0, index_col=\"uid\")\n",
    "x = data_df.values"
   ]
  },
  {
   "cell_type": "markdown",
   "metadata": {},
   "source": [
    "Алгоритм кластеризации, который необходимо реализовать, выбирается на основании Вашего логина на портале Техносферы. При проверке домашнего задания бадут осуществляться проверка логина и соответствующего алгоритма."
   ]
  },
  {
   "cell_type": "code",
   "execution_count": 4,
   "metadata": {
    "collapsed": false
   },
   "outputs": [
    {
     "name": "stdout",
     "output_type": "stream",
     "text": [
      "Реализуем алгоритм кластеризации 'Hierarchical clustering с поддержкой single-linkage, complete-linkage, average-linkage (параметры - k, linkage)'\n"
     ]
    }
   ],
   "source": [
    "algorithms = [\n",
    "    u\"Gaussian Mixture Model с использованием maximum a-posteriori для выбора кластера (параметр - k)\",\n",
    "    u\"Hierarchical clustering с поддержкой single-linkage, complete-linkage, average-linkage (параметры - k, linkage)\",\n",
    "    u\"DBSCAN. (параметры  - epsilon, min_pts)\", \n",
    "    u\"OPTICS. (параметры - epsilon, min_pts)\"\n",
    "]\n",
    "\n",
    "my_algorithm = algorithms[hash(\"i.markov\") % len(algorithms)]\n",
    "print u\"Реализуем алгоритм кластеризации '%s'\" % my_algorithm"
   ]
  },
  {
   "cell_type": "markdown",
   "metadata": {},
   "source": [
    "Алгоритм кластеризации должен удовлетворять следующему интерфейсу. Конструктор принимает набор параметров, необходимых для работы алгоритма кластеризации. Метод `fit` подсчитывает параметры модели и возвращает `self`. Метод `predict` возвращает вектор с индексами кластеров для поданных в него объектов `x`"
   ]
  },
  {
   "cell_type": "code",
   "execution_count": 7,
   "metadata": {
    "collapsed": false
   },
   "outputs": [],
   "source": [
    "import pandas as pd\n",
    "import pylab as pl\n",
    "import numpy as np\n",
    "import scipy.spatial as ss\n",
    "import sklearn.cluster as sc\n",
    "import sklearn.manifold as sm\n",
    "import sklearn.datasets as ds\n",
    "import sklearn.metrics as smt\n",
    "import random as rnd\n",
    "import sys\n",
    "import heapq as hp\n",
    "\n",
    "\n",
    "class Clustering:\n",
    "    \"\"\"\n",
    "    Implement clustering algorithm according\n",
    "    \"\"\"\n",
    "\n",
    "\n",
    "\n",
    "\n",
    "    class HeapElement:\n",
    "        def __init__(self, key, C1, C2):\n",
    "            self.key = key\n",
    "            self.C1 = C1\n",
    "            self.C2 = C2\n",
    "\n",
    "        def __cmp__(self, other):\n",
    "            return cmp(self.key, other.key)\n",
    "\n",
    "    K1 = 20\n",
    "    K2 = 20\n",
    "\n",
    "    def __init__(self, **kwargs):\n",
    "        \"\"\"\n",
    "        Please add necessary algoritm parameters to class constructor.\n",
    "        \"\"\"\n",
    "        self.K = kwargs.get(\"K\")  # desired number of clusters\n",
    "        distance_str = kwargs.get(\"distance_func\", \"euclidian\")\n",
    "        if distance_str == \"euclidian\":\n",
    "            self.dist_func = Clustering.euclidian_dist\n",
    "        elif distance_str == \"manhattan\":\n",
    "            self.dist_func == Clustering.manhattan_dist\n",
    "        else:\n",
    "            raise Exception(\"Wrong parameter distance\")\n",
    "\n",
    "        linkage_str = kwargs.get(\"linkage\", \"single\")  # desired linkage\n",
    "        if linkage_str == \"single\":\n",
    "            self.linkage = Clustering.single_linkage\n",
    "        elif linkage_str == \"complete\":\n",
    "            self.linkage == Clustering.complete_linkage\n",
    "        elif linkage_str == \"average\":\n",
    "            self.linkage == Clustering.average_linkage\n",
    "        else:\n",
    "            raise Exception(\"Wrong parameter linkage\")\n",
    "\n",
    "        return\n",
    "\n",
    "    #\n",
    "    # Here are static methods for different distance and linkage calculations\n",
    "    #\n",
    "    # default distance is euclidean\n",
    "    # default linkage is single\n",
    "    #\n",
    "\n",
    "    @staticmethod\n",
    "    def euclidian_dist(x1, x2):\n",
    "        x1_np = np.asarray(x1)\n",
    "        x2_np = np.asarray(x2)\n",
    "        return np.linalg.norm(x1_np - x2_np)\n",
    "\n",
    "    @staticmethod\n",
    "    def manhattan_dist(x1, x2):\n",
    "        x1_np = np.asarray(x1)\n",
    "        x2_np = np.asarray(x2)\n",
    "        return np.sum(abs(x1_np - x2_np))\n",
    "\n",
    "    @staticmethod\n",
    "    def single_linkage(C1, C2, dist):\n",
    "        min_ = sys.maxint\n",
    "        for e1 in C1:\n",
    "            for e2 in C2:\n",
    "                d = dist(e1, e2)\n",
    "                if d < min_:\n",
    "                    min_ = d\n",
    "        return min_\n",
    "\n",
    "    @staticmethod\n",
    "    def complete_linkage(C1, C2, dist):\n",
    "        max_ = 0\n",
    "\n",
    "        for e1 in C1:\n",
    "            for e2 in C2:\n",
    "                d = dist(e1, e2)\n",
    "                if d > max_:\n",
    "                    max_ = d\n",
    "        return max_\n",
    "\n",
    "    @staticmethod\n",
    "    def average_linkage(C1, C2, dist):\n",
    "        sum_ = 0\n",
    "\n",
    "        for e1 in C1:\n",
    "            for e2 in C2:\n",
    "                sum_ += dist(e1, e2)\n",
    "\n",
    "        return sum_ / (len(C1) * len(C2))\n",
    "\n",
    "    # gets delta_set\n",
    "    # calculates delta (min distance among 20 random distances)\n",
    "    # then generates set of clusters in distance of delta with one another\n",
    "    def get_delta_set(self):\n",
    "\n",
    "        if len(self.clusters) <= self.K1:\n",
    "            return set(self.clusters)\n",
    "        delta_set = set()\n",
    "        size = len(self.clusters)\n",
    "        delta = sys.maxint\n",
    "        \n",
    "        candidate = 0\n",
    "        for i in xrange(self.K2):\n",
    "            a = rnd.randrange(size)\n",
    "            b = rnd.randrange(size)\n",
    "            while a == b:\n",
    "                b = rnd.randrange(size)\n",
    "            d = self.linkage(self.clusters[a], self.clusters[b], self.dist_func)\n",
    "            if d < delta:\n",
    "                delta = d\n",
    "                candidate = a\n",
    "\n",
    "        delta_set.add(self.clusters[candidate])\n",
    "        for a in delta_set.copy():\n",
    "            for b in self.clusters:\n",
    "                if b not in delta_set and self.linkage(a, b, self.dist_func) <= delta / 2: #all must be not far delta\n",
    "                    delta_set.add(b)\n",
    "\n",
    "        self.delta = delta\n",
    "        return delta_set\n",
    "\n",
    "\n",
    "    def get_closest(self):\n",
    "        helem = hp.heappop(self.heap)\n",
    "        return helem.C1, helem.C2\n",
    "\n",
    "    def update_structures(self, c1, c2):\n",
    "        new_c = tuple(list(c1) + list(c2))\n",
    "\n",
    "        # now we need to update clusters, heap\n",
    "\n",
    "        # first delete c1, c2\n",
    "        self.clusters.remove(c1)\n",
    "        self.clusters.remove(c2)\n",
    "\n",
    "        self.current_delta_set.remove(c1)\n",
    "        self.current_delta_set.remove(c2)\n",
    "\n",
    "        # then refresh heap\n",
    "        new_heap = []\n",
    "        for helem in self.heap:\n",
    "            if helem.C1 == c1 or helem.C1 == c2 or helem.C2 == c1 or helem.C2  == c2:\n",
    "                continue\n",
    "            new_heap.append(helem)\n",
    "\n",
    "        for c in self.clusters:\n",
    "                d = self.linkage(new_c, c, self.dist_func)\n",
    "                if d <= self.delta:\n",
    "                    new_heap.append(Clustering.HeapElement(d, new_c, c))\n",
    "                    self.current_delta_set.add(c)\n",
    "\n",
    "        hp.heapify(new_heap)\n",
    "        self.heap = new_heap\n",
    "\n",
    "        # don't forget about clusters and delta_set\n",
    "        self.clusters.append(new_c)\n",
    "        self.current_delta_set.add(new_c)\n",
    "\n",
    "    def fit(self, x, y=None):\n",
    "        \"\"\"\n",
    "        Use data matrix x to compute model parameters\n",
    "        \"\"\"\n",
    "        self.C = len(x)  # number of clusters in beginning\n",
    "        self.clusters = []\n",
    "\n",
    "        for e in x:\n",
    "            self.clusters.append((tuple(e),)) #insert as tuples of tuples\n",
    "        self.delta = sys.maxint\n",
    "\n",
    "        self.heap = []\n",
    "        self.current_delta_set = set()\n",
    "        while len(self.current_delta_set) < 2:\n",
    "            self.current_delta_set = self.get_delta_set()\n",
    "        \n",
    "        self.on_delta_set_created()\n",
    "        return self\n",
    "\n",
    "    def on_delta_set_created(self):\n",
    "        delta_list = list(self.current_delta_set)\n",
    "        size = len(delta_list)\n",
    "        for i in xrange(size):\n",
    "            for j in xrange(i + 1, size):\n",
    "                d = self.linkage(delta_list[i], delta_list[j], self.dist_func)\n",
    "                hp.heappush(self.heap, Clustering.HeapElement(d, delta_list[i], delta_list[j]))\n",
    "\n",
    "    def predict(self, x):\n",
    "        \"\"\"\n",
    "        Using computed model parameters predict cluster\n",
    "        for all objects from x\n",
    "        \"\"\"\n",
    "\n",
    "        if self.K == 1:\n",
    "            return np.zeros(len(x))\n",
    "        \n",
    "        while len(self.clusters) > self.K:\n",
    "            C_a, C_b = self.get_closest()\n",
    "            self.update_structures(C_a, C_b)\n",
    "\n",
    "            # in case we are out of delta set\n",
    "            while len(self.current_delta_set) < 2:\n",
    "                self.heap = []\n",
    "                self.current_delta_set = self.get_delta_set()\n",
    "\n",
    "            self.on_delta_set_created()\n",
    "\n",
    "        euristic_dict = {}\n",
    "        for i, c in enumerate(self.clusters):\n",
    "            for e in c:\n",
    "                euristic_dict[e] = i\n",
    "\n",
    "        result = np.zeros(len(x))\n",
    "        for i, e in enumerate(x):\n",
    "            result[i] = euristic_dict[tuple(e)]\n",
    "        return result\n",
    "\n",
    "    def fit_predict(self, x, y=None):\n",
    "        self.fit(x, y)\n",
    "        return self.predict(x)\n"
   ]
  },
  {
   "cell_type": "markdown",
   "metadata": {},
   "source": [
    "Сначала проверим реализованный алгоритм кластеризации на классическом наборе данных [Iris](http://www.wikiwand.com/en/Iris_flower_data_set). Загрузим данные (они включены в библиотеку sklearn) и посмотрим на то, как они выглядят в двух проекциях (для простоты используем 2 класса из 3)."
   ]
  },
  {
   "cell_type": "code",
   "execution_count": 5,
   "metadata": {
    "collapsed": false
   },
   "outputs": [
    {
     "data": {
      "image/png": "[encoded data removed]",
      "text/plain": [
       "<matplotlib.figure.Figure at 0x7f6964446310>"
      ]
     },
     "metadata": {},
     "output_type": "display_data"
    }
   ],
   "source": [
    "iris = ds.load_iris()\n",
    "x_iris = iris.data[:100]\n",
    "y_iris = iris.target[:100]\n",
    "\n",
    "pl.figure(figsize=(10, 5))\n",
    "\n",
    "pl.subplot(1, 2, 1)\n",
    "pl.scatter(x_iris[:, 0], x_iris[:, 1], c=y_iris, cmap=pl.cm.PuOr, lw=0, s=30)\n",
    "plt.xlabel('Sepal length')\n",
    "plt.ylabel('Sepal width')\n",
    "\n",
    "pl.subplot(1, 2, 2)\n",
    "pl.scatter(x_iris[:, 2], x_iris[:, 3], c=y_iris, cmap=pl.cm.PuOr, lw=0, s=30)\n",
    "plt.xlabel('Petal length')\n",
    "plt.ylabel('Petal width')\n",
    "pl.show()"
   ]
  },
  {
   "cell_type": "markdown",
   "metadata": {},
   "source": [
    "Видно, что классы разделяются, поэтому можно надеяться, что наш алгоритм \"найдет\" кластеры, соответствующие исходным классам. Результат работы реализованного алгоритма кластеризации предлагается сравнить с эталонной кластеризацией. Для этого предлагается изучить метрику ([adjusted rand score](http://scikit-learn.org/stable/modules/generated/sklearn.metrics.adjusted_rand_score.html)). В случае если значение этой метрики отличается от 1, предлагается поработать над улучшением реализации своего алгоритма."
   ]
  },
  {
   "cell_type": "code",
   "execution_count": 8,
   "metadata": {
    "collapsed": false
   },
   "outputs": [
    {
     "name": "stdout",
     "output_type": "stream",
     "text": [
      "Adjusted Rand index for iris is: 1.00\n"
     ]
    }
   ],
   "source": [
    "pred_iris = Clustering(K=2).fit_predict(x_iris)\n",
    "print \"Adjusted Rand index for iris is: %.2f\" % smt.adjusted_rand_score(y_iris, pred_iris)"
   ]
  },
  {
   "cell_type": "markdown",
   "metadata": {},
   "source": [
    "Выбрать и реализовать критерий качества, на основании которого будут подбираться параметры модели. Варианты критериев:\n",
    "- Инерция (сумма квадратов расстояний от каждой из точек до ближайшего к этой точке центроида)\n",
    "- Средний диаметр (максимальное расстояние между точками в кластере) или радиус (расстояние от центроида до самой дальней от него точки в кластере)\n",
    "- Sihouette\n",
    "\n",
    "**Критерий качества необходимо выбрать таким образом, чтобы он подходил для реализованного алгоритма**"
   ]
  },
  {
   "cell_type": "code",
   "execution_count": 5,
   "metadata": {
    "collapsed": true
   },
   "outputs": [],
   "source": [
    "def silhouete(elem, x, y, y_e, dist):\n",
    "    #i don't know how to do it nice n=with numpy so i do it with cycles\n",
    "    sums = {}\n",
    "    counts = {}\n",
    "    for i,e in enumerate(x):\n",
    "        if y[i] in sums:\n",
    "            sums[y[i]] += dist(elem, e)\n",
    "            counts[y[i]] += 1\n",
    "        else:\n",
    "            sums[y[i]] = dist(elem, e)\n",
    "            counts[y[i]] = 1\n",
    "    averages = np.zeros(len(sums))\n",
    "\n",
    "    for i in sorted(sums):\n",
    "        averages[i] = sums[i] / counts[i]\n",
    "    a = averages[y_e]\n",
    "    averages = np.delete(averages, y_e)\n",
    "    if len(averages) == 0:\n",
    "        return -1.0\n",
    "   \n",
    "    b = min(averages)\n",
    "    return (b - a)/ max(a,b)\n",
    "    "
   ]
  },
  {
   "cell_type": "code",
   "execution_count": 6,
   "metadata": {
    "collapsed": false
   },
   "outputs": [],
   "source": [
    "def quality(x, y, dist):\n",
    "    \"\"\"\n",
    "    Implement quality criterion of your choice\n",
    "    \"\"\"\n",
    "    silhouetes = np.zeros(len(x))\n",
    "    for i, e in enumerate(x):\n",
    "        silhouetes[i] = silhouete(e, x, y, y[i], dist)\n",
    "    \n",
    "    return np.mean(silhouetes)"
   ]
  },
  {
   "cell_type": "code",
   "execution_count": null,
   "metadata": {
    "collapsed": false
   },
   "outputs": [],
   "source": [
    "cls = Clustering(K=20)\n",
    "y = cls.fit_predict(x)\n",
    "quality(x, y, cls.dist_func)"
   ]
  },
  {
   "cell_type": "markdown",
   "metadata": {},
   "source": [
    "Применим критерий для выбора параметров алгоритма. Предлагается изменить следующий код таким образом, чтобы кластеризация вызывалась с верным набором параметров. На графике можно будет увидеть зависимость критерия от параметров алгоритма. Необходимо выбрать оптимальные значения этих параметров."
   ]
  },
  {
   "cell_type": "code",
   "execution_count": 49,
   "metadata": {
    "collapsed": false
   },
   "outputs": [
    {
     "name": "stderr",
     "output_type": "stream",
     "text": [
      "/usr/local/lib/python2.7/dist-packages/ipykernel/__main__.py:15: VisibleDeprecationWarning: using a non-integer number instead of an integer will result in an error in the future\n",
      "/usr/local/lib/python2.7/dist-packages/ipykernel/__main__.py:16: VisibleDeprecationWarning: using a non-integer number instead of an integer will result in an error in the future\n"
     ]
    },
    {
     "data": {
      "image/png": "[encoded data removed]",
      "text/plain": [
       "<matplotlib.figure.Figure at 0x7faf163acad0>"
      ]
     },
     "metadata": {},
     "output_type": "display_data"
    }
   ],
   "source": [
    "ks = range(1, 21)\n",
    "criteria = np.zeros(len(ks))\n",
    "#can work in good time only iris[:100]\n",
    "for i, k in enumerate(ks):\n",
    "    cls = Clustering(K=k)\n",
    "    y = cls.fit_predict(x_iris[:100])\n",
    "    criteria[i] = quality(x_iris[:100], y, cls.dist_func)\n",
    "    \n",
    "pl.figure(figsize=(8, 6))\n",
    "pl.plot(ks, criteria)\n",
    "pl.title(\"$J(k)$\")\n",
    "pl.ylabel(\"Criteria $J$\")\n",
    "pl.xlabel(\"Number of clusters $k$\")\n",
    "pl.grid()\n",
    "pl.show()"
   ]
  },
  {
   "cell_type": "code",
   "execution_count": null,
   "metadata": {
    "collapsed": true
   },
   "outputs": [],
   "source": [
    "def samples(x, l):\n",
    "    result = []\n",
    "    random_n = np.random.random_integers(0, len(x), l + 20)\n",
    "    for i in random_n:\n",
    "        result.append(x[i])\n",
    "    #hope random is ok and no duplicates there; i could check it with set, but need transform nparray to tuple\n",
    "    return np.asarray(result)\n",
    "\n",
    "my_x = samples(x,100)"
   ]
  },
  {
   "cell_type": "code",
   "execution_count": null,
   "metadata": {
    "collapsed": false
   },
   "outputs": [],
   "source": [
    "ks = range(1, 21)\n",
    "criteria = np.zeros(len(ks))\n",
    "\n",
    "for i, k in enumerate(ks):\n",
    "    cls = Clustering(K=k)\n",
    "    y = cls.fit_predict(my_x)\n",
    "    criteria[i] = quality(my_x, y, cls.dist_func)\n",
    "    \n",
    "pl.figure(figsize=(8, 6))\n",
    "pl.plot(ks, criteria)\n",
    "pl.title(\"$J(k)$\")\n",
    "pl.ylabel(\"Criteria $J$\")\n",
    "pl.xlabel(\"Number of clusters $k$\")\n",
    "pl.grid()\n",
    "pl.show()"
   ]
  },
  {
   "cell_type": "markdown",
   "metadata": {},
   "source": [
    "Далее необходимо кластеризовать данные, используя выбранное количество кластеров, и визуализировать результат с помощью T-SNE. Внимание! На полном объеме данных данный алгоритм может работать существенное время. "
   ]
  },
  {
   "cell_type": "markdown",
   "metadata": {},
   "source": [
    "Визуализируем результаты кластеризации ([подсказка](http://anokhin.github.io/img/hw3_tsne-kmeans.png)). Можно ли сказать, что в двумерном пространстве объекты из одного кластера находятся недалеко? Какой вывод можно сделать о качестве кластеризации?"
   ]
  },
  {
   "cell_type": "code",
   "execution_count": null,
   "metadata": {
    "collapsed": false
   },
   "outputs": [],
   "source": [
    "cls = Clustering(K=20)\n",
    "y = cls.fit_predict(my_x)"
   ]
  },
  {
   "cell_type": "code",
   "execution_count": 9,
   "metadata": {
    "collapsed": false
   },
   "outputs": [
    {
     "name": "stdout",
     "output_type": "stream",
     "text": [
      "[t-SNE] Computing pairwise distances...\n",
      "[t-SNE] Computing 91 nearest neighbors...\n",
      "[t-SNE] Computed conditional probabilities for sample 1000 / 11412\n",
      "[t-SNE] Computed conditional probabilities for sample 2000 / 11412\n",
      "[t-SNE] Computed conditional probabilities for sample 3000 / 11412\n",
      "[t-SNE] Computed conditional probabilities for sample 4000 / 11412\n",
      "[t-SNE] Computed conditional probabilities for sample 5000 / 11412\n",
      "[t-SNE] Computed conditional probabilities for sample 6000 / 11412\n",
      "[t-SNE] Computed conditional probabilities for sample 7000 / 11412\n",
      "[t-SNE] Computed conditional probabilities for sample 8000 / 11412\n",
      "[t-SNE] Computed conditional probabilities for sample 9000 / 11412\n",
      "[t-SNE] Computed conditional probabilities for sample 10000 / 11412\n",
      "[t-SNE] Computed conditional probabilities for sample 11000 / 11412\n",
      "[t-SNE] Computed conditional probabilities for sample 11412 / 11412\n",
      "[t-SNE] Mean sigma: 0.063868\n",
      "[t-SNE] Error after 100 iterations with early exaggeration: 1.424246\n",
      "[t-SNE] Error after 325 iterations: 1.376855\n"
     ]
    },
    {
     "ename": "NameError",
     "evalue": "name 'y' is not defined",
     "output_type": "error",
     "traceback": [
      "\u001b[0;31m---------------------------------------------------------------------------\u001b[0m",
      "\u001b[0;31mNameError\u001b[0m                                 Traceback (most recent call last)",
      "\u001b[0;32m<ipython-input-9-2f1a7d4e2a9e>\u001b[0m in \u001b[0;36m<module>\u001b[0;34m()\u001b[0m\n\u001b[1;32m      5\u001b[0m \u001b[0mcm\u001b[0m \u001b[0;34m=\u001b[0m \u001b[0mpl\u001b[0m\u001b[0;34m.\u001b[0m\u001b[0mget_cmap\u001b[0m\u001b[0;34m(\u001b[0m\u001b[0;34m'jet'\u001b[0m\u001b[0;34m)\u001b[0m\u001b[0;34m\u001b[0m\u001b[0m\n\u001b[1;32m      6\u001b[0m \u001b[0mpl\u001b[0m\u001b[0;34m.\u001b[0m\u001b[0mfigure\u001b[0m\u001b[0;34m(\u001b[0m\u001b[0mfigsize\u001b[0m\u001b[0;34m=\u001b[0m\u001b[0;34m(\u001b[0m\u001b[0;36m15\u001b[0m\u001b[0;34m,\u001b[0m \u001b[0;36m15\u001b[0m\u001b[0;34m)\u001b[0m\u001b[0;34m)\u001b[0m\u001b[0;34m\u001b[0m\u001b[0m\n\u001b[0;32m----> 7\u001b[0;31m \u001b[0mpl\u001b[0m\u001b[0;34m.\u001b[0m\u001b[0mscatter\u001b[0m\u001b[0;34m(\u001b[0m\u001b[0mz\u001b[0m\u001b[0;34m[\u001b[0m\u001b[0;34m:\u001b[0m\u001b[0;34m,\u001b[0m \u001b[0;36m0\u001b[0m\u001b[0;34m]\u001b[0m\u001b[0;34m,\u001b[0m \u001b[0mz\u001b[0m\u001b[0;34m[\u001b[0m\u001b[0;34m:\u001b[0m\u001b[0;34m,\u001b[0m \u001b[0;36m1\u001b[0m\u001b[0;34m]\u001b[0m\u001b[0;34m,\u001b[0m \u001b[0mc\u001b[0m\u001b[0;34m=\u001b[0m\u001b[0mmap\u001b[0m\u001b[0;34m(\u001b[0m\u001b[0;32mlambda\u001b[0m \u001b[0mc\u001b[0m\u001b[0;34m:\u001b[0m \u001b[0mcm\u001b[0m\u001b[0;34m(\u001b[0m\u001b[0;36m1.0\u001b[0m \u001b[0;34m*\u001b[0m \u001b[0mc\u001b[0m \u001b[0;34m/\u001b[0m \u001b[0mk\u001b[0m\u001b[0;34m)\u001b[0m\u001b[0;34m,\u001b[0m \u001b[0my\u001b[0m\u001b[0;34m)\u001b[0m\u001b[0;34m)\u001b[0m\u001b[0;34m\u001b[0m\u001b[0m\n\u001b[0m\u001b[1;32m      8\u001b[0m \u001b[0mpl\u001b[0m\u001b[0;34m.\u001b[0m\u001b[0maxis\u001b[0m\u001b[0;34m(\u001b[0m\u001b[0;34m'off'\u001b[0m\u001b[0;34m)\u001b[0m\u001b[0;34m\u001b[0m\u001b[0m\n\u001b[1;32m      9\u001b[0m \u001b[0mpl\u001b[0m\u001b[0;34m.\u001b[0m\u001b[0mshow\u001b[0m\u001b[0;34m(\u001b[0m\u001b[0;34m)\u001b[0m\u001b[0;34m\u001b[0m\u001b[0m\n",
      "\u001b[0;31mNameError\u001b[0m: name 'y' is not defined"
     ]
    },
    {
     "data": {
      "text/plain": [
       "<matplotlib.figure.Figure at 0x7f69640afed0>"
      ]
     },
     "metadata": {},
     "output_type": "display_data"
    }
   ],
   "source": [
    "tsne = sm.TSNE(n_components=2, verbose=1, n_iter=1000)\n",
    "z = tsne.fit_transform(x)\n",
    "\n",
    "# Color map\n",
    "cm = pl.get_cmap('jet')\n",
    "pl.figure(figsize=(15, 15))\n",
    "pl.scatter(z[:, 0], z[:, 1], c=map(lambda c: cm(1.0 * c / k), y))\n",
    "pl.axis('off')\n",
    "pl.show()"
   ]
  },
  {
   "cell_type": "markdown",
   "metadata": {},
   "source": [
    "Попробуем проанализировать полученные кластеры. Для того, чтобы интерпретировать \"суть\" каждого из кластеров, построим [radar plot](http://www.wikiwand.com/en/Radar_chart), отображающий их центроиды. Посмотрите на графики и попробуйте объяснить, каким поведением можно охарактеризовать каждый из полученных кластеров? Есть ли среди кластеров похожие?\n",
    "\n",
    "Реализация радара позаимствована отсюда: \n",
    "http://www.science-emergence.com/Matplotlib/MatplotlibGallery/RadarChartMatplotlibRougier/"
   ]
  },
  {
   "cell_type": "code",
   "execution_count": 20,
   "metadata": {
    "collapsed": false
   },
   "outputs": [
    {
     "data": {
      "image/png": "[encoded data removed]",
      "text/plain": [
       "<matplotlib.figure.Figure at 0x7f93c7f94910>"
      ]
     },
     "metadata": {},
     "output_type": "display_data"
    }
   ],
   "source": [
    "def radar(centroid, features, axes, color):\n",
    "    # Set ticks to the number of features (in radians)\n",
    "    t = np.arange(0, 2*np.pi, 2*np.pi/len(features))\n",
    "    plt.xticks(t, [])\n",
    "\n",
    "    # Set yticks from 0 to 1\n",
    "    plt.yticks(np.linspace(0, 1, 6))\n",
    "\n",
    "    # Draw polygon representing centroid\n",
    "    points = [(x, y) for x, y in zip(t, centroid)]\n",
    "    points.append(points[0])\n",
    "    points = np.array(points)\n",
    "    codes = [path.Path.MOVETO,] + [path.Path.LINETO,] * (len(centroid) - 1) + [ path.Path.CLOSEPOLY ]\n",
    "    _path = path.Path(points, codes)\n",
    "    _patch = patches.PathPatch(_path, fill=True, color=color, linewidth=0, alpha=.3)\n",
    "    axes.add_patch(_patch)\n",
    "    _patch = patches.PathPatch(_path, fill=False, linewidth = 2)\n",
    "    axes.add_patch(_patch)\n",
    "\n",
    "    # Draw circles at value points\n",
    "    plt.scatter(points[:,0], points[:,1], linewidth=2, s=50, color='white', edgecolor='black', zorder=10)\n",
    "\n",
    "    # Set axes limits\n",
    "    plt.ylim(0, 1)\n",
    "\n",
    "    # Draw ytick labels to make sure they fit properly\n",
    "    for i in range(len(features)):\n",
    "        angle_rad = i/float(len(features))*2*np.pi\n",
    "        angle_deg = i/float(len(features))*360\n",
    "        ha = \"right\"\n",
    "        if angle_rad < np.pi/2 or angle_rad > 3*np.pi/2: ha = \"left\"\n",
    "        plt.text(angle_rad, 1.05, features[i], size=7, horizontalalignment=ha, verticalalignment=\"center\")\n",
    "\n",
    "# Some additiola imports\n",
    "import matplotlib\n",
    "import matplotlib.path as path\n",
    "import matplotlib.pyplot as plt\n",
    "import matplotlib.patches as patches\n",
    "\n",
    "# Choose some nice colors\n",
    "matplotlib.rc('axes', facecolor = 'white')\n",
    "# Make figure background the same colors as axes \n",
    "fig = plt.figure(figsize=(15, 15), facecolor='white')\n",
    "\n",
    "cm = pl.get_cmap('jet')\n",
    "\n",
    "clusters = np.unique(y)\n",
    "for j, cluster in enumerate(clusters):    \n",
    "    x_c = x[y == cluster]\n",
    "    centroid = x_c.mean(axis=0)    \n",
    "    # Use a polar axes\n",
    "    axes = plt.subplot(3, 3, j + 1, polar=True)\n",
    "    radar(centroid, data_df.columns.values, axes, cm(1.0 * j / k))\n",
    "\n",
    "plt.show()"
   ]
  },
  {
   "cell_type": "markdown",
   "metadata": {},
   "source": [
    "Поздравляем, Вы завершили домашние задания по модулю \"Алгоритмы кластеризации\". Надеемся, что это было интересно."
   ]
  }
 ],
 "metadata": {
  "kernelspec": {
   "display_name": "Python 2",
   "language": "python",
   "name": "python2"
  },
  "language_info": {
   "codemirror_mode": {
    "name": "ipython",
    "version": 2
   },
   "file_extension": ".py",
   "mimetype": "text/x-python",
   "name": "python",
   "nbconvert_exporter": "python",
   "pygments_lexer": "ipython2",
   "version": "2.7.12"
  }
 },
 "nbformat": 4,
 "nbformat_minor": 0
}
